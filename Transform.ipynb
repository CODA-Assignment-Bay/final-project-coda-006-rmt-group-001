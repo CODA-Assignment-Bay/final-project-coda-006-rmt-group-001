{
 "cells": [
  {
   "cell_type": "code",
   "execution_count": 165,
   "id": "1fc09864-5197-451d-85b9-51c3710955a2",
   "metadata": {},
   "outputs": [],
   "source": [
    "from pyspark.sql import SparkSession\n",
    "from pyspark.sql.functions import col, year, month, to_timestamp, row_number, weekofyear, ceil, dayofmonth\n",
    "from pyspark.sql.window import Window\n",
    "import os\n",
    "import shutil"
   ]
  },
  {
   "cell_type": "code",
   "execution_count": 136,
   "id": "4f51b031-2a97-4a98-8607-12ff9e91f5b7",
   "metadata": {},
   "outputs": [],
   "source": [
    "# Initialize Spark Session\n",
    "spark = SparkSession.builder \\\n",
    "    .appName(\"WriteToPostgres\") \\\n",
    "    .config(\"spark.jars.packages\", \"org.postgresql:postgresql:42.6.0\") \\\n",
    "    .getOrCreate()"
   ]
  },
  {
   "cell_type": "code",
   "execution_count": 137,
   "id": "ddf737cf-d276-421d-a4ae-44984371b4ec",
   "metadata": {},
   "outputs": [],
   "source": [
    "path_data = \"Datasets/traffic_accidents.csv\"\n",
    "\n",
    "raw_data = spark.read.csv(path_data, header=True, inferSchema=True)"
   ]
  },
  {
   "cell_type": "code",
   "execution_count": 138,
   "id": "a29d5e5d-985f-40c2-bfcc-17e15adbd8a0",
   "metadata": {},
   "outputs": [],
   "source": [
    "raw_data = raw_data.withColumn(\"crash_date\", to_timestamp(\"crash_date\", \"MM/dd/yyyy hh:mm:ss a\"))"
   ]
  },
  {
   "cell_type": "code",
   "execution_count": 139,
   "id": "79f76d33-ab13-43e0-bdd0-52a9f505c550",
   "metadata": {},
   "outputs": [],
   "source": [
    "window = Window.orderBy(\"crash_date\", \"crash_hour\")"
   ]
  },
  {
   "cell_type": "code",
   "execution_count": 140,
   "id": "6bd83113-0efb-44f2-bfba-f04c4a34b3e7",
   "metadata": {},
   "outputs": [],
   "source": [
    "Date_Data = raw_data.select(\n",
    "    col(\"crash_date\"),\n",
    "    year(\"crash_date\").alias(\"crash_year\"),\n",
    "    month(\"crash_date\").alias(\"crash_month\"),\n",
    "    col(\"crash_day_of_week\").alias(\"crash_day\"),\n",
    "    col(\"crash_hour\")\n",
    ").withColumn(\"id\", row_number().over(window)) \\\n",
    " .withColumn(\"crash_week\", ceil(dayofmonth(\"crash_date\") / 7.0))"
   ]
  },
  {
   "cell_type": "code",
   "execution_count": 141,
   "id": "9375808a-e6ac-4df5-8610-6909915f4321",
   "metadata": {},
   "outputs": [],
   "source": [
    "Clean_Date_Data = Date_Data.dropDuplicates([\"crash_date\", \"crash_year\", \"crash_month\", \"crash_day\", \"crash_hour\", \"crash_week\"])"
   ]
  },
  {
   "cell_type": "code",
   "execution_count": 142,
   "id": "9ce49047-e93d-4514-a6a3-a71991c0dde2",
   "metadata": {},
   "outputs": [],
   "source": [
    "window = Window.orderBy(\"trafficway_type\", \"alignment\", \"roadway_surface_condition\", \"road_defect\")"
   ]
  },
  {
   "cell_type": "code",
   "execution_count": 143,
   "id": "db3521fb-696a-4ef9-beb5-41e3aaee95ff",
   "metadata": {},
   "outputs": [],
   "source": [
    "Roadway_Data = raw_data.select(col(\"trafficway_type\"), col(\"alignment\"), col(\"roadway_surface_cond\").alias(\"roadway_surface_condition\"), \n",
    "                               col(\"road_defect\")).withColumn(\"id\", row_number().over(window))"
   ]
  },
  {
   "cell_type": "code",
   "execution_count": 144,
   "id": "f16cf974-9cfd-4b4e-b7c5-3986c3772b8e",
   "metadata": {},
   "outputs": [],
   "source": [
    "Clean_Roadway_Data = Roadway_Data.dropDuplicates([\"trafficway_type\", \"alignment\", \"roadway_surface_condition\",  \"road_defect\"])"
   ]
  },
  {
   "cell_type": "code",
   "execution_count": 145,
   "id": "433d39e2-51ea-4f42-9c55-da76ccfda885",
   "metadata": {},
   "outputs": [],
   "source": [
    "window = Window.orderBy(\"crash_date\", \"crash_hour\")"
   ]
  },
  {
   "cell_type": "code",
   "execution_count": 146,
   "id": "5fe22bde-099d-4d63-a7d0-2d42e5c0e99d",
   "metadata": {},
   "outputs": [],
   "source": [
    "Final_Date_Data = Clean_Date_Data.select(col(\"crash_date\"), col(\"crash_year\"), col(\"crash_month\"),\n",
    "                                        col(\"crash_week\"),col(\"crash_day\"), col(\"crash_hour\"), ).withColumn(\"id\", row_number().over(window))"
   ]
  },
  {
   "cell_type": "code",
   "execution_count": 147,
   "id": "c38ec7ad-bdf1-416c-b756-8cff76b1bd1c",
   "metadata": {},
   "outputs": [],
   "source": [
    "window = Window.orderBy(\"trafficway_type\", \"alignment\", \"roadway_surface_condition\", \"road_defect\")"
   ]
  },
  {
   "cell_type": "code",
   "execution_count": 148,
   "id": "1d745bd3-0bf3-4bac-9e9a-f83ae959ef64",
   "metadata": {},
   "outputs": [],
   "source": [
    "Final_Roadway_Data = Clean_Roadway_Data.select(col(\"trafficway_type\"), (\"alignment\"), (\"roadway_surface_condition\"),\n",
    "                                        (\"road_defect\")).withColumn(\"id\", row_number().over(window))"
   ]
  },
  {
   "cell_type": "code",
   "execution_count": 149,
   "id": "d6848d88-efe7-41d5-8060-7fa2beb179d6",
   "metadata": {},
   "outputs": [
    {
     "name": "stdout",
     "output_type": "stream",
     "text": [
      "+---------------+------------------+-------------------------+-----------------+---+\n",
      "|trafficway_type|         alignment|roadway_surface_condition|      road_defect| id|\n",
      "+---------------+------------------+-------------------------+-----------------+---+\n",
      "|          ALLEY|      CURVE, LEVEL|                      WET|       RUT, HOLES|  1|\n",
      "|          ALLEY|STRAIGHT AND LEVEL|                      DRY|       NO DEFECTS|  2|\n",
      "|          ALLEY|STRAIGHT AND LEVEL|                      DRY|       RUT, HOLES|  3|\n",
      "|          ALLEY|STRAIGHT AND LEVEL|                      DRY|  SHOULDER DEFECT|  4|\n",
      "|          ALLEY|STRAIGHT AND LEVEL|                      DRY|          UNKNOWN|  5|\n",
      "|          ALLEY|STRAIGHT AND LEVEL|                      DRY|     WORN SURFACE|  6|\n",
      "|          ALLEY|STRAIGHT AND LEVEL|                      ICE|       NO DEFECTS|  7|\n",
      "|          ALLEY|STRAIGHT AND LEVEL|                      ICE|  SHOULDER DEFECT|  8|\n",
      "|          ALLEY|STRAIGHT AND LEVEL|                      ICE|          UNKNOWN|  9|\n",
      "|          ALLEY|STRAIGHT AND LEVEL|                      ICE|     WORN SURFACE| 10|\n",
      "|          ALLEY|STRAIGHT AND LEVEL|                    OTHER|          UNKNOWN| 11|\n",
      "|          ALLEY|STRAIGHT AND LEVEL|            SNOW OR SLUSH|       NO DEFECTS| 12|\n",
      "|          ALLEY|STRAIGHT AND LEVEL|            SNOW OR SLUSH|            OTHER| 13|\n",
      "|          ALLEY|STRAIGHT AND LEVEL|            SNOW OR SLUSH|       RUT, HOLES| 14|\n",
      "|          ALLEY|STRAIGHT AND LEVEL|            SNOW OR SLUSH|          UNKNOWN| 15|\n",
      "|          ALLEY|STRAIGHT AND LEVEL|                  UNKNOWN|       NO DEFECTS| 16|\n",
      "|          ALLEY|STRAIGHT AND LEVEL|                  UNKNOWN|          UNKNOWN| 17|\n",
      "|          ALLEY|STRAIGHT AND LEVEL|                      WET|DEBRIS ON ROADWAY| 18|\n",
      "|          ALLEY|STRAIGHT AND LEVEL|                      WET|       NO DEFECTS| 19|\n",
      "|          ALLEY|STRAIGHT AND LEVEL|                      WET|       RUT, HOLES| 20|\n",
      "+---------------+------------------+-------------------------+-----------------+---+\n",
      "only showing top 20 rows\n",
      "\n"
     ]
    }
   ],
   "source": [
    "Final_Roadway_Data.show()"
   ]
  },
  {
   "cell_type": "code",
   "execution_count": 150,
   "id": "66ae8248-9d5c-4df5-ad7f-1466c6287238",
   "metadata": {},
   "outputs": [
    {
     "name": "stdout",
     "output_type": "stream",
     "text": [
      "+-------------------+----------+-----------+----------+---------+----------+---+\n",
      "|         crash_date|crash_year|crash_month|crash_week|crash_day|crash_hour| id|\n",
      "+-------------------+----------+-----------+----------+---------+----------+---+\n",
      "|2013-03-03 16:48:00|      2013|          3|         1|        1|        16|  1|\n",
      "|2013-06-01 20:29:00|      2013|          6|         1|        7|        20|  2|\n",
      "|2015-02-13 08:00:00|      2015|          2|         2|        6|         8|  3|\n",
      "|2015-05-25 23:38:00|      2015|          5|         4|        2|        23|  4|\n",
      "|2015-08-02 19:55:00|      2015|          8|         1|        1|        19|  5|\n",
      "|2015-08-03 15:30:00|      2015|          8|         1|        2|        15|  6|\n",
      "|2015-08-04 12:40:00|      2015|          8|         1|        3|        12|  7|\n",
      "|2015-08-04 14:30:00|      2015|          8|         1|        3|        14|  8|\n",
      "|2015-08-06 10:00:00|      2015|          8|         1|        5|        10|  9|\n",
      "|2015-08-07 08:18:00|      2015|          8|         1|        6|         8| 10|\n",
      "|2015-08-07 09:00:00|      2015|          8|         1|        6|         9| 11|\n",
      "|2015-08-07 22:30:00|      2015|          8|         1|        6|        22| 12|\n",
      "|2015-08-08 13:10:00|      2015|          8|         2|        7|        13| 13|\n",
      "|2015-08-08 21:15:00|      2015|          8|         2|        7|        21| 14|\n",
      "|2015-08-10 09:15:00|      2015|          8|         2|        2|         9| 15|\n",
      "|2015-08-11 14:15:00|      2015|          8|         2|        3|        14| 16|\n",
      "|2015-08-14 09:30:00|      2015|          8|         2|        6|         9| 17|\n",
      "|2015-08-14 13:00:00|      2015|          8|         2|        6|        13| 18|\n",
      "|2015-08-14 13:45:00|      2015|          8|         2|        6|        13| 19|\n",
      "|2015-08-14 16:00:00|      2015|          8|         2|        6|        16| 20|\n",
      "+-------------------+----------+-----------+----------+---------+----------+---+\n",
      "only showing top 20 rows\n",
      "\n"
     ]
    }
   ],
   "source": [
    "Final_Date_Data.show()"
   ]
  },
  {
   "cell_type": "code",
   "execution_count": 159,
   "id": "fdd0345e-2c33-4180-b3e9-93ff784bafb4",
   "metadata": {},
   "outputs": [],
   "source": [
    "Join_Final_Date_Data = Final_Date_Data.withColumnRenamed(\"id\", \"date_id\")\n",
    "Join_Final_Roadway_Data = Final_Roadway_Data.withColumnRenamed(\"id\", \"road_id\")\n",
    "\n",
    "Date_Temp = raw_data.join(Join_Final_Date_Data, (raw_data[\"crash_date\"] == Join_Final_Date_Data[\"crash_date\"]) & \n",
    "                                                 (raw_data[\"crash_hour\"] == Join_Final_Date_Data[\"crash_hour\"]), \"inner\")\n",
    "\n",
    "Crash_Temp = Date_Temp.join(Join_Final_Roadway_Data, (Date_Temp[\"trafficway_type\"] == Join_Final_Roadway_Data[\"trafficway_type\"])\n",
    "                             & (Date_Temp[\"alignment\"] == Join_Final_Roadway_Data[\"alignment\"])\n",
    "                             & (Date_Temp[\"roadway_surface_cond\"] == Join_Final_Roadway_Data[\"roadway_surface_condition\"])\n",
    "                             & (Date_Temp[\"road_defect\"] == Join_Final_Roadway_Data[\"road_defect\"])\n",
    "                             , \"inner\")\n",
    "\n",
    "# select the columns from User_Final DataFrame to create a new DataFrame with the same schema as User_data and add the new columns Country_ID, State_ID, and City_ID\n",
    "Crash_Data = Crash_Temp.select(\"date_id\", \"road_id\", \"traffic_control_device\", \"weather_condition\", \"lighting_condition\",\n",
    "                                   \"first_crash_type\", \"crash_type\", \"intersection_related_i\", \"damage\", \"prim_contributory_cause\",\n",
    "                                   \"num_units\", \"most_severe_injury\", \"injuries_total\", \"injuries_fatal\", \"injuries_incapacitating\",\n",
    "                                   \"injuries_non_incapacitating\", \"injuries_reported_not_evident\", \"injuries_no_indication\")\n",
    "\n"
   ]
  },
  {
   "cell_type": "code",
   "execution_count": 160,
   "id": "79845416-82e6-497c-8cf2-9e4d09348ac2",
   "metadata": {},
   "outputs": [
    {
     "name": "stdout",
     "output_type": "stream",
     "text": [
      "root\n",
      " |-- date_id: integer (nullable = false)\n",
      " |-- road_id: integer (nullable = false)\n",
      " |-- traffic_control_device: string (nullable = true)\n",
      " |-- weather_condition: string (nullable = true)\n",
      " |-- lighting_condition: string (nullable = true)\n",
      " |-- first_crash_type: string (nullable = true)\n",
      " |-- crash_type: string (nullable = true)\n",
      " |-- intersection_related_i: string (nullable = true)\n",
      " |-- damage: string (nullable = true)\n",
      " |-- prim_contributory_cause: string (nullable = true)\n",
      " |-- num_units: integer (nullable = true)\n",
      " |-- most_severe_injury: string (nullable = true)\n",
      " |-- injuries_total: double (nullable = true)\n",
      " |-- injuries_fatal: double (nullable = true)\n",
      " |-- injuries_incapacitating: double (nullable = true)\n",
      " |-- injuries_non_incapacitating: double (nullable = true)\n",
      " |-- injuries_reported_not_evident: double (nullable = true)\n",
      " |-- injuries_no_indication: double (nullable = true)\n",
      "\n"
     ]
    }
   ],
   "source": [
    "Crash_Data.printSchema()"
   ]
  },
  {
   "cell_type": "code",
   "execution_count": 166,
   "id": "69ef85e2-871a-419e-a607-63fd09093215",
   "metadata": {},
   "outputs": [
    {
     "name": "stdout",
     "output_type": "stream",
     "text": [
      "Saved: Datasets/Clean_traffic_accidents.csv\n"
     ]
    }
   ],
   "source": [
    "tmp_path = os.path.join(\"Datasets\", \"_tmp_output\")\n",
    "\n",
    "Crash_Data.coalesce(1).write.mode(\"overwrite\").option(\"header\", \"true\").csv(tmp_path)\n",
    "\n",
    "for file in os.listdir(tmp_path):\n",
    "    if file.startswith(\"part-\") and file.endswith(\".csv\"):\n",
    "        full_temp_file_path = os.path.join(tmp_path, file)\n",
    "        break\n",
    "else:\n",
    "    raise FileNotFoundError(\"CSV part file not found in temp folder.\")\n",
    "\n",
    "final_output_path = os.path.join(\"Datasets\", \"Clean_traffic_accidents.csv\")\n",
    "shutil.move(full_temp_file_path, final_output_path)\n",
    "\n",
    "shutil.rmtree(tmp_path)\n",
    "\n",
    "print(f\"Saved: {final_output_path}\")\n"
   ]
  }
 ],
 "metadata": {
  "kernelspec": {
   "display_name": "Python 3 (ipykernel)",
   "language": "python",
   "name": "python3"
  },
  "language_info": {
   "codemirror_mode": {
    "name": "ipython",
    "version": 3
   },
   "file_extension": ".py",
   "mimetype": "text/x-python",
   "name": "python",
   "nbconvert_exporter": "python",
   "pygments_lexer": "ipython3",
   "version": "3.12.10"
  }
 },
 "nbformat": 4,
 "nbformat_minor": 5
}
