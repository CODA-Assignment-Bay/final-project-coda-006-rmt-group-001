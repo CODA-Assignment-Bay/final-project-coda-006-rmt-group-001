{
 "cells": [
  {
   "cell_type": "code",
   "execution_count": 12,
   "id": "68a307fc-42a5-4f55-bcd9-4e5038216eb7",
   "metadata": {},
   "outputs": [],
   "source": [
    "from pyspark.sql import SparkSession\n",
    "import kagglehub\n",
    "import os\n",
    "import shutil"
   ]
  },
  {
   "cell_type": "code",
   "execution_count": 2,
   "id": "aea32b05-9c8e-4b55-9998-acf78641b07b",
   "metadata": {},
   "outputs": [],
   "source": [
    "# Initialize Spark Session\n",
    "spark = SparkSession.builder \\\n",
    "    .appName(\"WriteToPostgres\") \\\n",
    "    .config(\"spark.jars.packages\", \"org.postgresql:postgresql:42.6.0\") \\\n",
    "    .getOrCreate()"
   ]
  },
  {
   "cell_type": "code",
   "execution_count": 15,
   "id": "1c629696-aaac-4dbb-b1f4-eb033ddcd77b",
   "metadata": {},
   "outputs": [
    {
     "name": "stdout",
     "output_type": "stream",
     "text": [
      "Path to dataset files: /home/jovyan/.cache/kagglehub/datasets/oktayrdeki/traffic-accidents/versions/1\n",
      "Path to dataset files: /home/jovyan/Final Project/Datasets\n"
     ]
    }
   ],
   "source": [
    "DATASET_ROOT_DIR = os.path.join(os.getcwd(), \"Datasets\")\n",
    "path = kagglehub.dataset_download(\"oktayrdeki/traffic-accidents\")\n",
    "print(\"Path to dataset files:\", path)\n",
    "if not os.path.exists(DATASET_ROOT_DIR):\n",
    "    os.makedirs(DATASET_ROOT_DIR)\n",
    "for filename in os.listdir(path):\n",
    "    src = os.path.join(path, filename)\n",
    "    dst = os.path.join(DATASET_ROOT_DIR, filename)\n",
    "    shutil.copy(src, dst)\n",
    "print(\"Path to dataset files:\", DATASET_ROOT_DIR)"
   ]
  },
  {
   "cell_type": "code",
   "execution_count": 10,
   "id": "12548487-b17c-45bc-9870-931e35952add",
   "metadata": {},
   "outputs": [
    {
     "name": "stdout",
     "output_type": "stream",
     "text": [
      "/home/jovyan/Final Project/Datasets\n"
     ]
    }
   ],
   "source": [
    "print(os.path.join(os.getcwd(), \"Datasets\"))"
   ]
  },
  {
   "cell_type": "code",
   "execution_count": null,
   "id": "e03dabb5-6f11-4b6e-9252-202bd603f353",
   "metadata": {},
   "outputs": [],
   "source": []
  }
 ],
 "metadata": {
  "kernelspec": {
   "display_name": "Python 3 (ipykernel)",
   "language": "python",
   "name": "python3"
  },
  "language_info": {
   "codemirror_mode": {
    "name": "ipython",
    "version": 3
   },
   "file_extension": ".py",
   "mimetype": "text/x-python",
   "name": "python",
   "nbconvert_exporter": "python",
   "pygments_lexer": "ipython3",
   "version": "3.12.10"
  }
 },
 "nbformat": 4,
 "nbformat_minor": 5
}
