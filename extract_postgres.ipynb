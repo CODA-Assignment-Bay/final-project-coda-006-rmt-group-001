{
 "cells": [
  {
   "cell_type": "code",
   "execution_count": 1,
   "id": "33ca2a11-c7a7-4683-8670-24fefd9de92c",
   "metadata": {},
   "outputs": [],
   "source": [
    "from pyspark.sql import SparkSession"
   ]
  },
  {
   "cell_type": "code",
   "execution_count": 2,
   "id": "58256f1b-af20-4967-a584-b58001b0214e",
   "metadata": {},
   "outputs": [],
   "source": [
    "# Initialize Spark Session\n",
    "spark = SparkSession.builder \\\n",
    "    .appName(\"ReadFromNeon\") \\\n",
    "    .config(\"spark.jars.packages\", \"org.postgresql:postgresql:42.6.0\") \\\n",
    "    .getOrCreate()"
   ]
  },
  {
   "cell_type": "code",
   "execution_count": 3,
   "id": "1df7a641-e5e4-45f6-9e6a-d9613a8a7d28",
   "metadata": {},
   "outputs": [],
   "source": [
    "postgres_url = \"jdbc:postgresql://ep-black-sun-a1uqdrq7-pooler.ap-southeast-1.aws.neon.tech:5432/neondb?sslmode=require\"\n",
    "\n",
    "postgres_properties = {\n",
    "    \"user\": \"neondb_owner\",\n",
    "    \"password\": \"npg_MP9sx2oAVjyf\",\n",
    "    \"driver\": \"org.postgresql.Driver\"\n",
    "}"
   ]
  },
  {
   "cell_type": "code",
   "execution_count": 6,
   "id": "804a75d6-b9b9-46ac-84e4-260ccc62a3f1",
   "metadata": {},
   "outputs": [
    {
     "name": "stdout",
     "output_type": "stream",
     "text": [
      "+---+-------------------+----------+-----------+----------+---------+----------+\n",
      "| id|         crash_date|crash_year|crash_month|crash_week|crash_day|crash_hour|\n",
      "+---+-------------------+----------+-----------+----------+---------+----------+\n",
      "|  1|2013-03-03 16:48:00|      2013|          3|         1|        1|        16|\n",
      "|  2|2013-06-01 20:29:00|      2013|          6|         1|        7|        20|\n",
      "|  3|2015-02-13 08:00:00|      2015|          2|         2|        6|         8|\n",
      "|  4|2015-05-25 23:38:00|      2015|          5|         4|        2|        23|\n",
      "|  5|2015-08-02 19:55:00|      2015|          8|         1|        1|        19|\n",
      "|  6|2015-08-03 15:30:00|      2015|          8|         1|        2|        15|\n",
      "|  7|2015-08-04 12:40:00|      2015|          8|         1|        3|        12|\n",
      "|  8|2015-08-04 14:30:00|      2015|          8|         1|        3|        14|\n",
      "|  9|2015-08-06 10:00:00|      2015|          8|         1|        5|        10|\n",
      "| 10|2015-08-07 08:18:00|      2015|          8|         1|        6|         8|\n",
      "| 11|2015-08-07 09:00:00|      2015|          8|         1|        6|         9|\n",
      "| 12|2015-08-07 22:30:00|      2015|          8|         1|        6|        22|\n",
      "| 13|2015-08-08 13:10:00|      2015|          8|         2|        7|        13|\n",
      "| 14|2015-08-08 21:15:00|      2015|          8|         2|        7|        21|\n",
      "| 15|2015-08-10 09:15:00|      2015|          8|         2|        2|         9|\n",
      "| 16|2015-08-11 14:15:00|      2015|          8|         2|        3|        14|\n",
      "| 17|2015-08-14 09:30:00|      2015|          8|         2|        6|         9|\n",
      "| 18|2015-08-14 13:00:00|      2015|          8|         2|        6|        13|\n",
      "| 19|2015-08-14 13:45:00|      2015|          8|         2|        6|        13|\n",
      "| 20|2015-08-14 16:00:00|      2015|          8|         2|        6|        16|\n",
      "+---+-------------------+----------+-----------+----------+---------+----------+\n",
      "only showing top 20 rows\n",
      "\n"
     ]
    }
   ],
   "source": [
    "data_Date = spark.read.jdbc(url=postgres_url, table=\"date\", properties=postgres_properties)\n",
    "data_Date.show()"
   ]
  },
  {
   "cell_type": "code",
   "execution_count": 7,
   "id": "b416984c-a1dc-41ac-9091-c6c2ffcf3d9c",
   "metadata": {},
   "outputs": [
    {
     "name": "stdout",
     "output_type": "stream",
     "text": [
      "+---+---------------+------------------+-------------------------+-----------------+\n",
      "| id|trafficway_type|         alignment|roadway_surface_condition|      road_defect|\n",
      "+---+---------------+------------------+-------------------------+-----------------+\n",
      "|  1|          ALLEY|      CURVE, LEVEL|                      WET|       RUT, HOLES|\n",
      "|  2|          ALLEY|STRAIGHT AND LEVEL|                      DRY|       NO DEFECTS|\n",
      "|  3|          ALLEY|STRAIGHT AND LEVEL|                      DRY|       RUT, HOLES|\n",
      "|  4|          ALLEY|STRAIGHT AND LEVEL|                      DRY|  SHOULDER DEFECT|\n",
      "|  5|          ALLEY|STRAIGHT AND LEVEL|                      DRY|          UNKNOWN|\n",
      "|  6|          ALLEY|STRAIGHT AND LEVEL|                      DRY|     WORN SURFACE|\n",
      "|  7|          ALLEY|STRAIGHT AND LEVEL|                      ICE|       NO DEFECTS|\n",
      "|  8|          ALLEY|STRAIGHT AND LEVEL|                      ICE|  SHOULDER DEFECT|\n",
      "|  9|          ALLEY|STRAIGHT AND LEVEL|                      ICE|          UNKNOWN|\n",
      "| 10|          ALLEY|STRAIGHT AND LEVEL|                      ICE|     WORN SURFACE|\n",
      "| 11|          ALLEY|STRAIGHT AND LEVEL|                    OTHER|          UNKNOWN|\n",
      "| 12|          ALLEY|STRAIGHT AND LEVEL|            SNOW OR SLUSH|       NO DEFECTS|\n",
      "| 13|          ALLEY|STRAIGHT AND LEVEL|            SNOW OR SLUSH|            OTHER|\n",
      "| 14|          ALLEY|STRAIGHT AND LEVEL|            SNOW OR SLUSH|       RUT, HOLES|\n",
      "| 15|          ALLEY|STRAIGHT AND LEVEL|            SNOW OR SLUSH|          UNKNOWN|\n",
      "| 16|          ALLEY|STRAIGHT AND LEVEL|                  UNKNOWN|       NO DEFECTS|\n",
      "| 17|          ALLEY|STRAIGHT AND LEVEL|                  UNKNOWN|          UNKNOWN|\n",
      "| 18|          ALLEY|STRAIGHT AND LEVEL|                      WET|DEBRIS ON ROADWAY|\n",
      "| 19|          ALLEY|STRAIGHT AND LEVEL|                      WET|       NO DEFECTS|\n",
      "| 20|          ALLEY|STRAIGHT AND LEVEL|                      WET|       RUT, HOLES|\n",
      "+---+---------------+------------------+-------------------------+-----------------+\n",
      "only showing top 20 rows\n",
      "\n"
     ]
    }
   ],
   "source": [
    "data_Road = spark.read.jdbc(url=postgres_url, table=\"roadway\", properties=postgres_properties)\n",
    "data_Road.show()"
   ]
  },
  {
   "cell_type": "code",
   "execution_count": 8,
   "id": "65c6e1cc-6678-4143-8f4a-b7a2d42b7da7",
   "metadata": {},
   "outputs": [
    {
     "name": "stdout",
     "output_type": "stream",
     "text": [
      "+---+-------+-------+----------------------+-----------------+--------------------+--------------------+--------------------+----------------------+-------------+-----------------------+---------+--------------------+--------------+--------------+-----------------------+---------------------------+-----------------------------+----------------------+\n",
      "| id|date_id|road_id|traffic_control_device|weather_condition|  lighting_condition|    first_crash_type|          crash_type|intersection_related_i|       damage|prim_contributory_cause|num_units|  most_severe_injury|injuries_total|injuries_fatal|injuries_incapacitating|injuries_non_incapacitating|injuries_reported_not_evident|injuries_no_indication|\n",
      "+---+-------+-------+----------------------+-----------------+--------------------+--------------------+--------------------+----------------------+-------------+-----------------------+---------+--------------------+--------------+--------------+-----------------------+---------------------------+-----------------------------+----------------------+\n",
      "|  1| 172023|    100|        TRAFFIC SIGNAL|            CLEAR|            DAYLIGHT|          PEDESTRIAN|INJURY AND / OR T...|                     Y| $500 OR LESS|   FAILING TO YIELD ...|        2|REPORTED, NOT EVI...|           1.0|           0.0|                    0.0|                        0.0|                          1.0|                   1.0|\n",
      "|  2|  12463|    100|        TRAFFIC SIGNAL|            CLEAR|            DAYLIGHT|SIDESWIPE OPPOSIT...|NO INJURY / DRIVE...|                     Y|  OVER $1,500|   EXCEEDING SAFE SP...|        2|NO INDICATION OF ...|           0.0|           0.0|                    0.0|                        0.0|                          0.0|                   2.0|\n",
      "|  3|   9452|    100|        TRAFFIC SIGNAL|            CLEAR|DARKNESS, LIGHTED...|            REAR END|NO INJURY / DRIVE...|                     Y|  OVER $1,500|   FOLLOWING TOO CLO...|        3|NO INDICATION OF ...|           0.0|           0.0|                    0.0|                        0.0|                          0.0|                   4.0|\n",
      "|  4|  47779|    100|        TRAFFIC SIGNAL|            CLEAR|DARKNESS, LIGHTED...|             TURNING|NO INJURY / DRIVE...|                     Y|  OVER $1,500|    UNABLE TO DETERMINE|        2|NO INDICATION OF ...|           0.0|           0.0|                    0.0|                        0.0|                          0.0|                   2.0|\n",
      "|  5|  19718|    100|        TRAFFIC SIGNAL|            CLEAR|            DAYLIGHT|             TURNING|NO INJURY / DRIVE...|                     Y|  OVER $1,500|   FAILING TO YIELD ...|        2|NO INDICATION OF ...|           0.0|           0.0|                    0.0|                        0.0|                          0.0|                   2.0|\n",
      "|  6| 169160|    100|     STOP SIGN/FLASHER|            CLEAR|            DAYLIGHT|             TURNING|NO INJURY / DRIVE...|                     Y|  OVER $1,500|    UNABLE TO DETERMINE|        2|NO INDICATION OF ...|           0.0|           0.0|                    0.0|                        0.0|                          0.0|                   2.0|\n",
      "|  7| 153310|    100|        TRAFFIC SIGNAL|            CLEAR|DARKNESS, LIGHTED...|          PEDESTRIAN|INJURY AND / OR T...|                     Y|$501 - $1,500|   FAILING TO YIELD ...|        2|NONINCAPACITATING...|           1.0|           0.0|                    0.0|                        1.0|                          0.0|                   1.0|\n",
      "|  8|  21405|    100|     STOP SIGN/FLASHER|            CLEAR|DARKNESS, LIGHTED...|             TURNING|INJURY AND / OR T...|                     Y|  OVER $1,500|   FAILING TO YIELD ...|        2|NONINCAPACITATING...|           1.0|           0.0|                    0.0|                        1.0|                          0.0|                   1.0|\n",
      "|  9|   1639|    100|     STOP SIGN/FLASHER|            CLEAR|             UNKNOWN|PARKED MOTOR VEHICLE|NO INJURY / DRIVE...|                     Y|  OVER $1,500|    UNABLE TO DETERMINE|        2|NO INDICATION OF ...|           0.0|           0.0|                    0.0|                        0.0|                          0.0|                   1.0|\n",
      "| 10|   3939|    100|           NO CONTROLS|            CLEAR|            DAYLIGHT|SIDESWIPE SAME DI...|INJURY AND / OR T...|                     N|  OVER $1,500|   IMPROPER OVERTAKI...|        2|NO INDICATION OF ...|           0.0|           0.0|                    0.0|                        0.0|                          0.0|                   2.0|\n",
      "| 11| 155138|    100|     STOP SIGN/FLASHER|            CLEAR|            DAYLIGHT|             TURNING|NO INJURY / DRIVE...|                     Y|$501 - $1,500|   FAILING TO YIELD ...|        2|NO INDICATION OF ...|           0.0|           0.0|                    0.0|                        0.0|                          0.0|                   3.0|\n",
      "| 12| 159309|    100|        TRAFFIC SIGNAL|            CLEAR|DARKNESS, LIGHTED...|               ANGLE|INJURY AND / OR T...|                     Y|  OVER $1,500|   DISREGARDING TRAF...|        2|REPORTED, NOT EVI...|           1.0|           0.0|                    0.0|                        0.0|                          1.0|                   1.0|\n",
      "| 13| 172762|    100|           NO CONTROLS|            CLEAR|            DAYLIGHT|SIDESWIPE SAME DI...|NO INJURY / DRIVE...|                     N|  OVER $1,500|   DRIVING SKILLS/KN...|        2|NO INDICATION OF ...|           0.0|           0.0|                    0.0|                        0.0|                          0.0|                   3.0|\n",
      "| 14| 112633|    100|        TRAFFIC SIGNAL|            CLEAR|            DAYLIGHT|             TURNING|INJURY AND / OR T...|                     Y|  OVER $1,500|   DRIVING SKILLS/KN...|        2|NONINCAPACITATING...|           2.0|           0.0|                    0.0|                        2.0|                          0.0|                   0.0|\n",
      "| 15|  16065|    100|        TRAFFIC SIGNAL|            CLEAR|            DAYLIGHT|             TURNING|NO INJURY / DRIVE...|                     Y|$501 - $1,500|   FAILING TO YIELD ...|        2|NO INDICATION OF ...|           0.0|           0.0|                    0.0|                        0.0|                          0.0|                   6.0|\n",
      "| 16|  58986|    100|        TRAFFIC SIGNAL|            CLEAR|            DAYLIGHT|             TURNING|NO INJURY / DRIVE...|                     Y|$501 - $1,500|   FAILING TO YIELD ...|        2|NO INDICATION OF ...|           0.0|           0.0|                    0.0|                        0.0|                          0.0|                   4.0|\n",
      "| 17| 154048|    100|        TRAFFIC SIGNAL|            CLEAR|            DAYLIGHT|               ANGLE|NO INJURY / DRIVE...|                     Y|$501 - $1,500|   DISREGARDING TRAF...|        2|NO INDICATION OF ...|           0.0|           0.0|                    0.0|                        0.0|                          0.0|                   2.0|\n",
      "| 18|  22234|    100|        TRAFFIC SIGNAL|            CLEAR|            DAYLIGHT|            REAR END|INJURY AND / OR T...|                     Y|$501 - $1,500|    UNABLE TO DETERMINE|        2|REPORTED, NOT EVI...|           2.0|           0.0|                    0.0|                        0.0|                          2.0|                   0.0|\n",
      "| 19|  10195|    100|     STOP SIGN/FLASHER|            CLEAR|            DAYLIGHT|               ANGLE|NO INJURY / DRIVE...|                     Y|  OVER $1,500|   FAILING TO YIELD ...|        2|NO INDICATION OF ...|           0.0|           0.0|                    0.0|                        0.0|                          0.0|                   2.0|\n",
      "| 20|  38831|    100|        TRAFFIC SIGNAL|            CLEAR|            DAYLIGHT|               ANGLE|INJURY AND / OR T...|                     Y|$501 - $1,500|   DISREGARDING TRAF...|        2|NONINCAPACITATING...|           1.0|           0.0|                    0.0|                        1.0|                          0.0|                   4.0|\n",
      "+---+-------+-------+----------------------+-----------------+--------------------+--------------------+--------------------+----------------------+-------------+-----------------------+---------+--------------------+--------------+--------------+-----------------------+---------------------------+-----------------------------+----------------------+\n",
      "only showing top 20 rows\n",
      "\n"
     ]
    }
   ],
   "source": [
    "data_Crash = spark.read.jdbc(url=postgres_url, table=\"crash\", properties=postgres_properties)\n",
    "data_Crash.show()"
   ]
  },
  {
   "cell_type": "code",
   "execution_count": 21,
   "id": "9db26a27-41a8-4cb9-830a-1b34f6d3b652",
   "metadata": {},
   "outputs": [
    {
     "name": "stdout",
     "output_type": "stream",
     "text": [
      "✅ CSV berhasil disimpan di: PO_datasets/date.csv\n"
     ]
    }
   ],
   "source": [
    "table_name = \"date\"\n",
    "\n",
    "output_dir = f\"PO_datasets/tmp_{table_name}_csv\"\n",
    "final_csv_path = f\"PO_datasets/{table_name}.csv\"\n",
    "\n",
    "if os.path.exists(output_dir):\n",
    "    shutil.rmtree(output_dir)\n",
    "\n",
    "data_Road.coalesce(1).write.csv(output_dir, header=True, mode=\"overwrite\")\n",
    "\n",
    "for file in os.listdir(output_dir):\n",
    "    if file.startswith(\"part-\") and file.endswith(\".csv\"):\n",
    "        os.rename(os.path.join(output_dir, file), final_csv_path)\n",
    "        break\n",
    "\n",
    "# Hapus folder temp\n",
    "shutil.rmtree(output_dir)\n",
    "\n",
    "print(f\"Saved: {final_csv_path}\")"
   ]
  },
  {
   "cell_type": "code",
   "execution_count": 22,
   "id": "e9545d4b-a29b-4c30-af29-cb7072d2e27b",
   "metadata": {},
   "outputs": [
    {
     "name": "stdout",
     "output_type": "stream",
     "text": [
      "✅ CSV berhasil disimpan di: PO_datasets/roadway.csv\n"
     ]
    }
   ],
   "source": [
    "table_name = \"roadway\"\n",
    "\n",
    "output_dir = f\"PO_datasets/tmp_{table_name}_csv\"\n",
    "final_csv_path = f\"PO_datasets/{table_name}.csv\"\n",
    "\n",
    "if os.path.exists(output_dir):\n",
    "    shutil.rmtree(output_dir)\n",
    "\n",
    "data_Road.coalesce(1).write.csv(output_dir, header=True, mode=\"overwrite\")\n",
    "\n",
    "for file in os.listdir(output_dir):\n",
    "    if file.startswith(\"part-\") and file.endswith(\".csv\"):\n",
    "        os.rename(os.path.join(output_dir, file), final_csv_path)\n",
    "        break\n",
    "\n",
    "# Hapus folder temp\n",
    "shutil.rmtree(output_dir)\n",
    "\n",
    "print(f\"Saved: {final_csv_path}\")"
   ]
  },
  {
   "cell_type": "code",
   "execution_count": 23,
   "id": "dfa72a71-e47c-4fe8-85ee-cf7171a83c31",
   "metadata": {},
   "outputs": [
    {
     "name": "stdout",
     "output_type": "stream",
     "text": [
      "✅ CSV berhasil disimpan di: PO_datasets/crash.csv\n"
     ]
    }
   ],
   "source": [
    "table_name = \"crash\"\n",
    "\n",
    "output_dir = f\"PO_datasets/tmp_{table_name}_csv\"\n",
    "final_csv_path = f\"PO_datasets/{table_name}.csv\"\n",
    "\n",
    "if os.path.exists(output_dir):\n",
    "    shutil.rmtree(output_dir)\n",
    "\n",
    "data_Road.coalesce(1).write.csv(output_dir, header=True, mode=\"overwrite\")\n",
    "\n",
    "for file in os.listdir(output_dir):\n",
    "    if file.startswith(\"part-\") and file.endswith(\".csv\"):\n",
    "        os.rename(os.path.join(output_dir, file), final_csv_path)\n",
    "        break\n",
    "\n",
    "# Hapus folder temp\n",
    "shutil.rmtree(output_dir)\n",
    "\n",
    "print(f\"Saved: {final_csv_path}\")"
   ]
  }
 ],
 "metadata": {
  "kernelspec": {
   "display_name": "Python 3 (ipykernel)",
   "language": "python",
   "name": "python3"
  },
  "language_info": {
   "codemirror_mode": {
    "name": "ipython",
    "version": 3
   },
   "file_extension": ".py",
   "mimetype": "text/x-python",
   "name": "python",
   "nbconvert_exporter": "python",
   "pygments_lexer": "ipython3",
   "version": "3.12.10"
  }
 },
 "nbformat": 4,
 "nbformat_minor": 5
}
