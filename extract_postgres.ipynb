{
 "cells": [
  {
   "cell_type": "code",
   "execution_count": 10,
   "id": "33ca2a11-c7a7-4683-8670-24fefd9de92c",
   "metadata": {},
   "outputs": [],
   "source": [
    "from pyspark.sql import SparkSession\n",
    "import os\n",
    "import shutil"
   ]
  },
  {
   "cell_type": "code",
   "execution_count": 2,
   "id": "58256f1b-af20-4967-a584-b58001b0214e",
   "metadata": {},
   "outputs": [],
   "source": [
    "# Initialize Spark Session\n",
    "spark = SparkSession.builder \\\n",
    "    .appName(\"ReadFromNeon\") \\\n",
    "    .config(\"spark.jars.packages\", \"org.postgresql:postgresql:42.6.0\") \\\n",
    "    .getOrCreate()"
   ]
  },
  {
   "cell_type": "code",
   "execution_count": 3,
   "id": "1df7a641-e5e4-45f6-9e6a-d9613a8a7d28",
   "metadata": {},
   "outputs": [],
   "source": [
    "postgres_url = \"jdbc:postgresql://ep-black-sun-a1uqdrq7-pooler.ap-southeast-1.aws.neon.tech:5432/neondb?sslmode=require\"\n",
    "\n",
    "postgres_properties = {\n",
    "    \"user\": \"neondb_owner\",\n",
    "    \"password\": \"npg_MP9sx2oAVjyf\",\n",
    "    \"driver\": \"org.postgresql.Driver\"\n",
    "}"
   ]
  },
  {
   "cell_type": "code",
   "execution_count": 4,
   "id": "804a75d6-b9b9-46ac-84e4-260ccc62a3f1",
   "metadata": {},
   "outputs": [
    {
     "name": "stdout",
     "output_type": "stream",
     "text": [
      "+----------+----------+-----------+----------+-----------------+\n",
      "|crash_date|crash_year|crash_month|crash_week|crash_day_of_week|\n",
      "+----------+----------+-----------+----------+-----------------+\n",
      "|2013-03-01|      2013|          3|         1|                6|\n",
      "|2013-03-02|      2013|          3|         1|                7|\n",
      "|2013-03-03|      2013|          3|         1|                1|\n",
      "|2013-03-04|      2013|          3|         1|                2|\n",
      "|2013-03-05|      2013|          3|         1|                3|\n",
      "|2013-03-06|      2013|          3|         1|                4|\n",
      "|2013-03-07|      2013|          3|         1|                5|\n",
      "|2013-03-08|      2013|          3|         2|                6|\n",
      "|2013-03-09|      2013|          3|         2|                7|\n",
      "|2013-03-10|      2013|          3|         2|                1|\n",
      "|2013-03-11|      2013|          3|         2|                2|\n",
      "|2013-03-12|      2013|          3|         2|                3|\n",
      "|2013-03-13|      2013|          3|         2|                4|\n",
      "|2013-03-14|      2013|          3|         2|                5|\n",
      "|2013-03-15|      2013|          3|         3|                6|\n",
      "|2013-03-16|      2013|          3|         3|                7|\n",
      "|2013-03-17|      2013|          3|         3|                1|\n",
      "|2013-03-18|      2013|          3|         3|                2|\n",
      "|2013-03-19|      2013|          3|         3|                3|\n",
      "|2013-03-20|      2013|          3|         3|                4|\n",
      "+----------+----------+-----------+----------+-----------------+\n",
      "only showing top 20 rows\n",
      "\n"
     ]
    }
   ],
   "source": [
    "data_Date = spark.read.jdbc(url=postgres_url, table=\"date\", properties=postgres_properties)\n",
    "data_Date.show()"
   ]
  },
  {
   "cell_type": "code",
   "execution_count": 5,
   "id": "b416984c-a1dc-41ac-9091-c6c2ffcf3d9c",
   "metadata": {},
   "outputs": [
    {
     "name": "stdout",
     "output_type": "stream",
     "text": [
      "+---+---------------+------------------+-------------------------+-----------------+\n",
      "| id|trafficway_type|         alignment|roadway_surface_condition|      road_defect|\n",
      "+---+---------------+------------------+-------------------------+-----------------+\n",
      "|  1|          ALLEY|      CURVE, LEVEL|                      WET|       RUT, HOLES|\n",
      "|  2|          ALLEY|STRAIGHT AND LEVEL|                      DRY|       NO DEFECTS|\n",
      "|  3|          ALLEY|STRAIGHT AND LEVEL|                      DRY|       RUT, HOLES|\n",
      "|  4|          ALLEY|STRAIGHT AND LEVEL|                      DRY|  SHOULDER DEFECT|\n",
      "|  5|          ALLEY|STRAIGHT AND LEVEL|                      DRY|          UNKNOWN|\n",
      "|  6|          ALLEY|STRAIGHT AND LEVEL|                      DRY|     WORN SURFACE|\n",
      "|  7|          ALLEY|STRAIGHT AND LEVEL|                      ICE|       NO DEFECTS|\n",
      "|  8|          ALLEY|STRAIGHT AND LEVEL|                      ICE|  SHOULDER DEFECT|\n",
      "|  9|          ALLEY|STRAIGHT AND LEVEL|                      ICE|          UNKNOWN|\n",
      "| 10|          ALLEY|STRAIGHT AND LEVEL|                      ICE|     WORN SURFACE|\n",
      "| 11|          ALLEY|STRAIGHT AND LEVEL|                    OTHER|          UNKNOWN|\n",
      "| 12|          ALLEY|STRAIGHT AND LEVEL|            SNOW OR SLUSH|       NO DEFECTS|\n",
      "| 13|          ALLEY|STRAIGHT AND LEVEL|            SNOW OR SLUSH|            OTHER|\n",
      "| 14|          ALLEY|STRAIGHT AND LEVEL|            SNOW OR SLUSH|       RUT, HOLES|\n",
      "| 15|          ALLEY|STRAIGHT AND LEVEL|            SNOW OR SLUSH|          UNKNOWN|\n",
      "| 16|          ALLEY|STRAIGHT AND LEVEL|                  UNKNOWN|       NO DEFECTS|\n",
      "| 17|          ALLEY|STRAIGHT AND LEVEL|                  UNKNOWN|          UNKNOWN|\n",
      "| 18|          ALLEY|STRAIGHT AND LEVEL|                      WET|DEBRIS ON ROADWAY|\n",
      "| 19|          ALLEY|STRAIGHT AND LEVEL|                      WET|       NO DEFECTS|\n",
      "| 20|          ALLEY|STRAIGHT AND LEVEL|                      WET|       RUT, HOLES|\n",
      "+---+---------------+------------------+-------------------------+-----------------+\n",
      "only showing top 20 rows\n",
      "\n"
     ]
    }
   ],
   "source": [
    "data_Road = spark.read.jdbc(url=postgres_url, table=\"roadway\", properties=postgres_properties)\n",
    "data_Road.show()"
   ]
  },
  {
   "cell_type": "code",
   "execution_count": 6,
   "id": "65c6e1cc-6678-4143-8f4a-b7a2d42b7da7",
   "metadata": {},
   "outputs": [
    {
     "name": "stdout",
     "output_type": "stream",
     "text": [
      "+---+----------+-------+----------------------+-----------------+--------------------+--------------------+--------------------+----------------------+-------------+-----------------------+---------+--------------------+--------------+--------------+-----------------------+---------------------------+-----------------------------+----------------------+----------+\n",
      "| id|crash_date|road_id|traffic_control_device|weather_condition|  lighting_condition|    first_crash_type|          crash_type|intersection_related_i|       damage|prim_contributory_cause|num_units|  most_severe_injury|injuries_total|injuries_fatal|injuries_incapacitating|injuries_non_incapacitating|injuries_reported_not_evident|injuries_no_indication|crash_hour|\n",
      "+---+----------+-------+----------------------+-----------------+--------------------+--------------------+--------------------+----------------------+-------------+-----------------------+---------+--------------------+--------------+--------------+-----------------------+---------------------------+-----------------------------+----------------------+----------+\n",
      "|  1|2016-12-20|    124|           NO CONTROLS|            CLEAR|            DAYLIGHT|             TURNING|INJURY AND / OR T...|                     Y|  OVER $1,500|   FAILING TO YIELD ...|        3|NO INDICATION OF ...|           0.0|           0.0|                    0.0|                        0.0|                          0.0|                   4.0|         7|\n",
      "|  2|2018-02-08|    124|        TRAFFIC SIGNAL|             SNOW|            DAYLIGHT|          PEDESTRIAN|INJURY AND / OR T...|                     Y| $500 OR LESS|   FAILING TO YIELD ...|        2|REPORTED, NOT EVI...|           1.0|           0.0|                    0.0|                        0.0|                          1.0|                   2.0|         9|\n",
      "|  3|2019-06-23|    308|     STOP SIGN/FLASHER|             RAIN|DARKNESS, LIGHTED...|               ANGLE|NO INJURY / DRIVE...|                     Y|  OVER $1,500|   FAILING TO YIELD ...|        2|NO INDICATION OF ...|           0.0|           0.0|                    0.0|                        0.0|                          0.0|                   2.0|        23|\n",
      "|  4|2023-08-08|    846|           NO CONTROLS|            CLEAR|            DAYLIGHT|SIDESWIPE SAME DI...|NO INJURY / DRIVE...|                     N| $500 OR LESS|    IMPROPER LANE USAGE|        2|NO INDICATION OF ...|           0.0|           0.0|                    0.0|                        0.0|                          0.0|                   3.0|        10|\n",
      "|  5|2018-11-20|    846|        TRAFFIC SIGNAL|            CLEAR|            DAYLIGHT|SIDESWIPE SAME DI...|NO INJURY / DRIVE...|                     Y|  OVER $1,500|   IMPROPER OVERTAKI...|        2|NO INDICATION OF ...|           0.0|           0.0|                    0.0|                        0.0|                          0.0|                   2.0|        12|\n",
      "|  6|2017-06-22|    846|        TRAFFIC SIGNAL|            CLEAR|DARKNESS, LIGHTED...|               ANGLE|NO INJURY / DRIVE...|                     Y|  OVER $1,500|    IMPROPER LANE USAGE|        2|NO INDICATION OF ...|           0.0|           0.0|                    0.0|                        0.0|                          0.0|                   5.0|        22|\n",
      "|  7|2018-12-18|    846|        TRAFFIC SIGNAL|            CLEAR|            DAYLIGHT|             TURNING|INJURY AND / OR T...|                     Y|  OVER $1,500|   FAILING TO REDUCE...|        4|NONINCAPACITATING...|           1.0|           0.0|                    0.0|                        1.0|                          0.0|                   5.0|        10|\n",
      "|  8|2021-01-23|    846|                 OTHER|            CLEAR|            DAYLIGHT|               ANGLE|INJURY AND / OR T...|                     Y|  OVER $1,500|   DISREGARDING STOP...|        2|NO INDICATION OF ...|           0.0|           0.0|                    0.0|                        0.0|                          0.0|                   2.0|        11|\n",
      "|  9|2019-12-19|    846|     STOP SIGN/FLASHER|            CLEAR|            DAYLIGHT|               ANGLE|NO INJURY / DRIVE...|                     Y|  OVER $1,500|   DISREGARDING STOP...|        2|NO INDICATION OF ...|           0.0|           0.0|                    0.0|                        0.0|                          0.0|                   2.0|         8|\n",
      "| 10|2021-04-01|    846|        TRAFFIC SIGNAL|            CLEAR|            DAYLIGHT|               ANGLE|INJURY AND / OR T...|                     Y|  OVER $1,500|         NOT APPLICABLE|        2|REPORTED, NOT EVI...|           1.0|           0.0|                    0.0|                        0.0|                          1.0|                   3.0|        19|\n",
      "| 11|2024-02-04|    846|               UNKNOWN|            CLEAR|            DAYLIGHT|SIDESWIPE SAME DI...|NO INJURY / DRIVE...|                     Y|  OVER $1,500|    UNABLE TO DETERMINE|        2|NO INDICATION OF ...|           0.0|           0.0|                    0.0|                        0.0|                          0.0|                   2.0|        19|\n",
      "| 12|2017-09-25|    846|        TRAFFIC SIGNAL|            CLEAR|DARKNESS, LIGHTED...|               ANGLE|NO INJURY / DRIVE...|                     Y|  OVER $1,500|   DISREGARDING TRAF...|        2|NO INDICATION OF ...|           0.0|           0.0|                    0.0|                        0.0|                          0.0|                   2.0|         0|\n",
      "| 13|2024-04-20|    846|     STOP SIGN/FLASHER|            CLEAR|                DAWN|               ANGLE|NO INJURY / DRIVE...|                     Y|  OVER $1,500|   FAILING TO YIELD ...|        2|NO INDICATION OF ...|           0.0|           0.0|                    0.0|                        0.0|                          0.0|                   2.0|        15|\n",
      "| 14|2015-10-22|    846|        TRAFFIC SIGNAL|            CLEAR|DARKNESS, LIGHTED...|            REAR END|NO INJURY / DRIVE...|                     Y|  OVER $1,500|       IMPROPER BACKING|        2|NO INDICATION OF ...|           0.0|           0.0|                    0.0|                        0.0|                          0.0|                   2.0|        21|\n",
      "| 15|2021-08-02|    846|        TRAFFIC SIGNAL|            CLEAR|            DAYLIGHT|             TURNING|NO INJURY / DRIVE...|                     N|  OVER $1,500|    UNABLE TO DETERMINE|        2|NO INDICATION OF ...|           0.0|           0.0|                    0.0|                        0.0|                          0.0|                   2.0|        12|\n",
      "| 16|2018-05-31|    846|     STOP SIGN/FLASHER|            CLEAR|DARKNESS, LIGHTED...|               ANGLE|NO INJURY / DRIVE...|                     Y|$501 - $1,500|   DISREGARDING STOP...|        2|NO INDICATION OF ...|           0.0|           0.0|                    0.0|                        0.0|                          0.0|                   2.0|        23|\n",
      "| 17|2017-09-24|    846|        TRAFFIC SIGNAL|            CLEAR|DARKNESS, LIGHTED...|               ANGLE|INJURY AND / OR T...|                     Y|  OVER $1,500|    UNABLE TO DETERMINE|        2|NONINCAPACITATING...|           2.0|           0.0|                    0.0|                        2.0|                          0.0|                   2.0|         3|\n",
      "| 18|2020-11-13|    846|        TRAFFIC SIGNAL|            CLEAR|            DAYLIGHT|             TURNING|NO INJURY / DRIVE...|                     N|  OVER $1,500|         NOT APPLICABLE|        2|NO INDICATION OF ...|           0.0|           0.0|                    0.0|                        0.0|                          0.0|                   2.0|        12|\n",
      "| 19|2022-12-20|    846|        TRAFFIC SIGNAL|            CLEAR|            DAYLIGHT|            REAR END|INJURY AND / OR T...|                     N|  OVER $1,500|   FOLLOWING TOO CLO...|        3|INCAPACITATING IN...|           2.0|           0.0|                    2.0|                        0.0|                          0.0|                   3.0|         8|\n",
      "| 20|2019-03-11|    846|     STOP SIGN/FLASHER|            CLEAR|            DAYLIGHT|               ANGLE|NO INJURY / DRIVE...|                     Y|  OVER $1,500|   DISREGARDING STOP...|        2|NO INDICATION OF ...|           0.0|           0.0|                    0.0|                        0.0|                          0.0|                   2.0|        17|\n",
      "+---+----------+-------+----------------------+-----------------+--------------------+--------------------+--------------------+----------------------+-------------+-----------------------+---------+--------------------+--------------+--------------+-----------------------+---------------------------+-----------------------------+----------------------+----------+\n",
      "only showing top 20 rows\n",
      "\n"
     ]
    }
   ],
   "source": [
    "data_Crash = spark.read.jdbc(url=postgres_url, table=\"crash\", properties=postgres_properties)\n",
    "data_Crash.show()"
   ]
  },
  {
   "cell_type": "code",
   "execution_count": 11,
   "id": "9db26a27-41a8-4cb9-830a-1b34f6d3b652",
   "metadata": {},
   "outputs": [
    {
     "name": "stdout",
     "output_type": "stream",
     "text": [
      "Saved: PO_datasets/date.csv\n"
     ]
    }
   ],
   "source": [
    "table_name = \"date\"\n",
    "\n",
    "output_dir = f\"PO_datasets/tmp_{table_name}_csv\"\n",
    "final_csv_path = f\"PO_datasets/{table_name}.csv\"\n",
    "\n",
    "if os.path.exists(output_dir):\n",
    "    shutil.rmtree(output_dir)\n",
    "\n",
    "data_Date.coalesce(1).write.csv(output_dir, header=True, mode=\"overwrite\")\n",
    "\n",
    "for file in os.listdir(output_dir):\n",
    "    if file.startswith(\"part-\") and file.endswith(\".csv\"):\n",
    "        os.rename(os.path.join(output_dir, file), final_csv_path)\n",
    "        break\n",
    "\n",
    "# Hapus folder temp\n",
    "shutil.rmtree(output_dir)\n",
    "\n",
    "print(f\"Saved: {final_csv_path}\")"
   ]
  },
  {
   "cell_type": "code",
   "execution_count": 12,
   "id": "e9545d4b-a29b-4c30-af29-cb7072d2e27b",
   "metadata": {},
   "outputs": [
    {
     "name": "stdout",
     "output_type": "stream",
     "text": [
      "Saved: PO_datasets/roadway.csv\n"
     ]
    }
   ],
   "source": [
    "table_name = \"roadway\"\n",
    "\n",
    "output_dir = f\"PO_datasets/tmp_{table_name}_csv\"\n",
    "final_csv_path = f\"PO_datasets/{table_name}.csv\"\n",
    "\n",
    "if os.path.exists(output_dir):\n",
    "    shutil.rmtree(output_dir)\n",
    "\n",
    "data_Road.coalesce(1).write.csv(output_dir, header=True, mode=\"overwrite\")\n",
    "\n",
    "for file in os.listdir(output_dir):\n",
    "    if file.startswith(\"part-\") and file.endswith(\".csv\"):\n",
    "        os.rename(os.path.join(output_dir, file), final_csv_path)\n",
    "        break\n",
    "\n",
    "# Hapus folder temp\n",
    "shutil.rmtree(output_dir)\n",
    "\n",
    "print(f\"Saved: {final_csv_path}\")"
   ]
  },
  {
   "cell_type": "code",
   "execution_count": 13,
   "id": "dfa72a71-e47c-4fe8-85ee-cf7171a83c31",
   "metadata": {},
   "outputs": [
    {
     "name": "stdout",
     "output_type": "stream",
     "text": [
      "Saved: PO_datasets/crash.csv\n"
     ]
    }
   ],
   "source": [
    "table_name = \"crash\"\n",
    "\n",
    "output_dir = f\"PO_datasets/tmp_{table_name}_csv\"\n",
    "final_csv_path = f\"PO_datasets/{table_name}.csv\"\n",
    "\n",
    "if os.path.exists(output_dir):\n",
    "    shutil.rmtree(output_dir)\n",
    "\n",
    "data_Crash.coalesce(1).write.csv(output_dir, header=True, mode=\"overwrite\")\n",
    "\n",
    "for file in os.listdir(output_dir):\n",
    "    if file.startswith(\"part-\") and file.endswith(\".csv\"):\n",
    "        os.rename(os.path.join(output_dir, file), final_csv_path)\n",
    "        break\n",
    "\n",
    "# Hapus folder temp\n",
    "shutil.rmtree(output_dir)\n",
    "\n",
    "print(f\"Saved: {final_csv_path}\")"
   ]
  }
 ],
 "metadata": {
  "kernelspec": {
   "display_name": "Python 3 (ipykernel)",
   "language": "python",
   "name": "python3"
  },
  "language_info": {
   "codemirror_mode": {
    "name": "ipython",
    "version": 3
   },
   "file_extension": ".py",
   "mimetype": "text/x-python",
   "name": "python",
   "nbconvert_exporter": "python",
   "pygments_lexer": "ipython3",
   "version": "3.12.10"
  }
 },
 "nbformat": 4,
 "nbformat_minor": 5
}
