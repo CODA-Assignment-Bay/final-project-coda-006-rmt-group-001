{
 "cells": [
  {
   "cell_type": "code",
   "execution_count": 1,
   "id": "4c004d1b-5e07-4c86-877a-0a79c0b08690",
   "metadata": {},
   "outputs": [],
   "source": [
    "from pyspark.sql import SparkSession"
   ]
  },
  {
   "cell_type": "code",
   "execution_count": 2,
   "id": "2d9d201e-afc8-4bc9-b027-fc274674d2c9",
   "metadata": {},
   "outputs": [],
   "source": [
    "# Initialize Spark Session\n",
    "spark = SparkSession.builder \\\n",
    "    .appName(\"WriteToPostgres\") \\\n",
    "    .config(\"spark.jars.packages\", \"org.postgresql:postgresql:42.6.0\") \\\n",
    "    .getOrCreate()"
   ]
  },
  {
   "cell_type": "code",
   "execution_count": 3,
   "id": "eaf351b4-c377-4d17-a4f3-ecec8dd9114b",
   "metadata": {},
   "outputs": [],
   "source": [
    "postgres_url = \"jdbc:postgresql://ep-black-sun-a1uqdrq7-pooler.ap-southeast-1.aws.neon.tech:5432/neondb?sslmode=require\"\n",
    "\n",
    "postgres_properties = {\n",
    "    \"user\": \"neondb_owner\",\n",
    "    \"password\": \"npg_MP9sx2oAVjyf\",\n",
    "    \"driver\": \"org.postgresql.Driver\"\n",
    "}"
   ]
  },
  {
   "cell_type": "code",
   "execution_count": 7,
   "id": "1b8fae44-af3e-4526-8230-27da9f06767b",
   "metadata": {},
   "outputs": [
    {
     "name": "stdout",
     "output_type": "stream",
     "text": [
      "+-------------------+----------+-----------+----------+---------+----------+\n",
      "|         crash_date|crash_year|crash_month|crash_week|crash_day|crash_hour|\n",
      "+-------------------+----------+-----------+----------+---------+----------+\n",
      "|2013-03-03 16:48:00|      2013|          3|         1|        1|        16|\n",
      "|2013-06-01 20:29:00|      2013|          6|         1|        7|        20|\n",
      "|2015-02-13 08:00:00|      2015|          2|         2|        6|         8|\n",
      "|2015-05-25 23:38:00|      2015|          5|         4|        2|        23|\n",
      "|2015-08-02 19:55:00|      2015|          8|         1|        1|        19|\n",
      "|2015-08-03 15:30:00|      2015|          8|         1|        2|        15|\n",
      "|2015-08-04 12:40:00|      2015|          8|         1|        3|        12|\n",
      "|2015-08-04 14:30:00|      2015|          8|         1|        3|        14|\n",
      "|2015-08-06 10:00:00|      2015|          8|         1|        5|        10|\n",
      "|2015-08-07 08:18:00|      2015|          8|         1|        6|         8|\n",
      "|2015-08-07 09:00:00|      2015|          8|         1|        6|         9|\n",
      "|2015-08-07 22:30:00|      2015|          8|         1|        6|        22|\n",
      "|2015-08-08 13:10:00|      2015|          8|         2|        7|        13|\n",
      "|2015-08-08 21:15:00|      2015|          8|         2|        7|        21|\n",
      "|2015-08-10 09:15:00|      2015|          8|         2|        2|         9|\n",
      "|2015-08-11 14:15:00|      2015|          8|         2|        3|        14|\n",
      "|2015-08-14 09:30:00|      2015|          8|         2|        6|         9|\n",
      "|2015-08-14 13:00:00|      2015|          8|         2|        6|        13|\n",
      "|2015-08-14 13:45:00|      2015|          8|         2|        6|        13|\n",
      "|2015-08-14 16:00:00|      2015|          8|         2|        6|        16|\n",
      "+-------------------+----------+-----------+----------+---------+----------+\n",
      "only showing top 20 rows\n",
      "\n"
     ]
    }
   ],
   "source": [
    "data_date = spark.read.csv('Datasets/Clean_Crash_Date_Data.csv', header=True , inferSchema=True)\n",
    "data_date.show()"
   ]
  },
  {
   "cell_type": "code",
   "execution_count": 8,
   "id": "a00ec758-4232-4649-829f-cec5cb571db1",
   "metadata": {},
   "outputs": [
    {
     "name": "stdout",
     "output_type": "stream",
     "text": [
      "+---------------+------------------+-------------------------+-----------------+\n",
      "|trafficway_type|         alignment|roadway_surface_condition|      road_defect|\n",
      "+---------------+------------------+-------------------------+-----------------+\n",
      "|          ALLEY|      CURVE, LEVEL|                      WET|       RUT, HOLES|\n",
      "|          ALLEY|STRAIGHT AND LEVEL|                      DRY|       NO DEFECTS|\n",
      "|          ALLEY|STRAIGHT AND LEVEL|                      DRY|       RUT, HOLES|\n",
      "|          ALLEY|STRAIGHT AND LEVEL|                      DRY|  SHOULDER DEFECT|\n",
      "|          ALLEY|STRAIGHT AND LEVEL|                      DRY|          UNKNOWN|\n",
      "|          ALLEY|STRAIGHT AND LEVEL|                      DRY|     WORN SURFACE|\n",
      "|          ALLEY|STRAIGHT AND LEVEL|                      ICE|       NO DEFECTS|\n",
      "|          ALLEY|STRAIGHT AND LEVEL|                      ICE|  SHOULDER DEFECT|\n",
      "|          ALLEY|STRAIGHT AND LEVEL|                      ICE|          UNKNOWN|\n",
      "|          ALLEY|STRAIGHT AND LEVEL|                      ICE|     WORN SURFACE|\n",
      "|          ALLEY|STRAIGHT AND LEVEL|                    OTHER|          UNKNOWN|\n",
      "|          ALLEY|STRAIGHT AND LEVEL|            SNOW OR SLUSH|       NO DEFECTS|\n",
      "|          ALLEY|STRAIGHT AND LEVEL|            SNOW OR SLUSH|            OTHER|\n",
      "|          ALLEY|STRAIGHT AND LEVEL|            SNOW OR SLUSH|       RUT, HOLES|\n",
      "|          ALLEY|STRAIGHT AND LEVEL|            SNOW OR SLUSH|          UNKNOWN|\n",
      "|          ALLEY|STRAIGHT AND LEVEL|                  UNKNOWN|       NO DEFECTS|\n",
      "|          ALLEY|STRAIGHT AND LEVEL|                  UNKNOWN|          UNKNOWN|\n",
      "|          ALLEY|STRAIGHT AND LEVEL|                      WET|DEBRIS ON ROADWAY|\n",
      "|          ALLEY|STRAIGHT AND LEVEL|                      WET|       NO DEFECTS|\n",
      "|          ALLEY|STRAIGHT AND LEVEL|                      WET|       RUT, HOLES|\n",
      "+---------------+------------------+-------------------------+-----------------+\n",
      "only showing top 20 rows\n",
      "\n"
     ]
    }
   ],
   "source": [
    "data_road = spark.read.csv('Datasets/Clean_Road_Data.csv', header=True , inferSchema=True)\n",
    "data_road.show()"
   ]
  },
  {
   "cell_type": "code",
   "execution_count": 9,
   "id": "d719082c-40a8-44fe-9677-5acab2bad31c",
   "metadata": {},
   "outputs": [
    {
     "name": "stdout",
     "output_type": "stream",
     "text": [
      "+-------+-------+----------------------+-----------------+--------------------+--------------------+--------------------+----------------------+-------------+-----------------------+---------+--------------------+--------------+--------------+-----------------------+---------------------------+-----------------------------+----------------------+\n",
      "|date_id|road_id|traffic_control_device|weather_condition|  lighting_condition|    first_crash_type|          crash_type|intersection_related_i|       damage|prim_contributory_cause|num_units|  most_severe_injury|injuries_total|injuries_fatal|injuries_incapacitating|injuries_non_incapacitating|injuries_reported_not_evident|injuries_no_indication|\n",
      "+-------+-------+----------------------+-----------------+--------------------+--------------------+--------------------+----------------------+-------------+-----------------------+---------+--------------------+--------------+--------------+-----------------------+---------------------------+-----------------------------+----------------------+\n",
      "| 154294|    472|        TRAFFIC SIGNAL|            CLEAR|            DAYLIGHT|             TURNING|NO INJURY / DRIVE...|                     Y|$501 - $1,500|    UNABLE TO DETERMINE|        2|NO INDICATION OF ...|           0.0|           0.0|                    0.0|                        0.0|                          0.0|                   3.0|\n",
      "| 155177|    311|        TRAFFIC SIGNAL|            CLEAR|DARKNESS, LIGHTED...|             TURNING|NO INJURY / DRIVE...|                     Y|  OVER $1,500|   IMPROPER TURNING/...|        2|NO INDICATION OF ...|           0.0|           0.0|                    0.0|                        0.0|                          0.0|                   2.0|\n",
      "| 116644|    766|        TRAFFIC SIGNAL|            CLEAR|            DAYLIGHT|            REAR END|NO INJURY / DRIVE...|                     Y|$501 - $1,500|   FOLLOWING TOO CLO...|        3|NO INDICATION OF ...|           0.0|           0.0|                    0.0|                        0.0|                          0.0|                   3.0|\n",
      "| 154983|    311|        TRAFFIC SIGNAL|            CLEAR|            DAYLIGHT|               ANGLE|INJURY AND / OR T...|                     Y|  OVER $1,500|    UNABLE TO DETERMINE|        2|NONINCAPACITATING...|           5.0|           0.0|                    0.0|                        5.0|                          0.0|                   0.0|\n",
      "| 155580|    785|        TRAFFIC SIGNAL|            CLEAR|            DAYLIGHT|            REAR END|NO INJURY / DRIVE...|                     Y|$501 - $1,500|   DRIVING SKILLS/KN...|        2|NO INDICATION OF ...|           0.0|           0.0|                    0.0|                        0.0|                          0.0|                   3.0|\n",
      "| 156741|    479|           NO CONTROLS|             RAIN|DARKNESS, LIGHTED...|        FIXED OBJECT|INJURY AND / OR T...|                     N|$501 - $1,500|    UNABLE TO DETERMINE|        1|NONINCAPACITATING...|           2.0|           0.0|                    0.0|                        2.0|                          0.0|                   0.0|\n",
      "| 140467|    311|        TRAFFIC SIGNAL|            CLEAR|            DAYLIGHT|       REAR TO FRONT|NO INJURY / DRIVE...|                     Y|$501 - $1,500|       IMPROPER BACKING|        2|NO INDICATION OF ...|           0.0|           0.0|                    0.0|                        0.0|                          0.0|                   2.0|\n",
      "| 157709|     88|           NO CONTROLS|            CLEAR|            DAYLIGHT|               ANGLE|INJURY AND / OR T...|                     Y|  OVER $1,500|   FAILING TO YIELD ...|        2|NONINCAPACITATING...|           1.0|           0.0|                    0.0|                        1.0|                          0.0|                   1.0|\n",
      "|  34781|    436|        TRAFFIC SIGNAL|            CLEAR|            DAYLIGHT|            REAR END|NO INJURY / DRIVE...|                     Y|  OVER $1,500|   FOLLOWING TOO CLO...|        2|NO INDICATION OF ...|           0.0|           0.0|                    0.0|                        0.0|                          0.0|                   3.0|\n",
      "| 156840|    311|     STOP SIGN/FLASHER|            CLEAR|            DAYLIGHT|               ANGLE|NO INJURY / DRIVE...|                     Y|  OVER $1,500|   FAILING TO YIELD ...|        2|NO INDICATION OF ...|           0.0|           0.0|                    0.0|                        0.0|                          0.0|                   4.0|\n",
      "| 156849|    440|        TRAFFIC SIGNAL|            CLEAR|DARKNESS, LIGHTED...|        FIXED OBJECT|NO INJURY / DRIVE...|                     Y|  OVER $1,500|    UNABLE TO DETERMINE|        1|NO INDICATION OF ...|           0.0|           0.0|                    0.0|                        0.0|                          0.0|                   1.0|\n",
      "|   7562|    650|        TRAFFIC SIGNAL|             RAIN|                DUSK|               ANGLE|NO INJURY / DRIVE...|                     Y|  OVER $1,500|   IMPROPER OVERTAKI...|        2|NO INDICATION OF ...|           0.0|           0.0|                    0.0|                        0.0|                          0.0|                   2.0|\n",
      "|  83892|    874|               UNKNOWN|            CLEAR|            DAYLIGHT|             TURNING|NO INJURY / DRIVE...|                     Y|  OVER $1,500|    UNABLE TO DETERMINE|        2|NO INDICATION OF ...|           0.0|           0.0|                    0.0|                        0.0|                          0.0|                   2.0|\n",
      "| 154950|    555|           NO CONTROLS|            CLEAR|            DAYLIGHT|SIDESWIPE SAME DI...|NO INJURY / DRIVE...|                     Y|  OVER $1,500|   IMPROPER OVERTAKI...|        2|NO INDICATION OF ...|           0.0|           0.0|                    0.0|                        0.0|                          0.0|                   2.0|\n",
      "|  76623|    716|        TRAFFIC SIGNAL|             SNOW|            DAYLIGHT|            REAR END|NO INJURY / DRIVE...|                     Y|  OVER $1,500|   FOLLOWING TOO CLO...|        2|NO INDICATION OF ...|           0.0|           0.0|                    0.0|                        0.0|                          0.0|                   2.0|\n",
      "| 154503|    436|           NO CONTROLS|            CLEAR|DARKNESS, LIGHTED...|SIDESWIPE OPPOSIT...|INJURY AND / OR T...|                     N|  OVER $1,500|   IMPROPER TURNING/...|        4|INCAPACITATING IN...|           1.0|           0.0|                    1.0|                        0.0|                          0.0|                   1.0|\n",
      "| 154480|    818|        TRAFFIC SIGNAL|            CLEAR|            DAYLIGHT|        PEDALCYCLIST|INJURY AND / OR T...|                     N| $500 OR LESS|   DRIVING ON WRONG ...|        2|REPORTED, NOT EVI...|           1.0|           0.0|                    0.0|                        0.0|                          1.0|                   1.0|\n",
      "| 156727|    271|        TRAFFIC SIGNAL|            CLEAR|                DUSK|               ANGLE|INJURY AND / OR T...|                     Y|  OVER $1,500|    UNABLE TO DETERMINE|        2|INCAPACITATING IN...|           3.0|           0.0|                    1.0|                        2.0|                          0.0|                   2.0|\n",
      "| 133820|    311|        TRAFFIC SIGNAL|            CLEAR|            DAYLIGHT|SIDESWIPE SAME DI...|NO INJURY / DRIVE...|                     Y|  OVER $1,500|    IMPROPER LANE USAGE|        2|NO INDICATION OF ...|           0.0|           0.0|                    0.0|                        0.0|                          0.0|                   2.0|\n",
      "| 155347|    582|     STOP SIGN/FLASHER|            CLEAR|            DAYLIGHT|             TURNING|NO INJURY / DRIVE...|                     Y| $500 OR LESS|   IMPROPER OVERTAKI...|        2|NO INDICATION OF ...|           0.0|           0.0|                    0.0|                        0.0|                          0.0|                   2.0|\n",
      "+-------+-------+----------------------+-----------------+--------------------+--------------------+--------------------+----------------------+-------------+-----------------------+---------+--------------------+--------------+--------------+-----------------------+---------------------------+-----------------------------+----------------------+\n",
      "only showing top 20 rows\n",
      "\n"
     ]
    }
   ],
   "source": [
    "data_crash = spark.read.csv('Datasets/Clean_Crash_Data.csv', header=True , inferSchema=True)\n",
    "data_crash.show()"
   ]
  },
  {
   "cell_type": "code",
   "execution_count": 11,
   "id": "8e111afb-24fe-4cdd-b005-33c1c98d4760",
   "metadata": {},
   "outputs": [],
   "source": [
    "# Write DataFrame users to PostgreSQL\n",
    "data_date.write.jdbc(url=postgres_url, table=\"date\", mode=\"append\", properties=postgres_properties)"
   ]
  },
  {
   "cell_type": "code",
   "execution_count": 12,
   "id": "ba4ff302-f56f-4327-906c-bf804ce046e3",
   "metadata": {},
   "outputs": [],
   "source": [
    "data_road.write.jdbc(url=postgres_url, table=\"roadway\", mode=\"append\", properties=postgres_properties)"
   ]
  },
  {
   "cell_type": "code",
   "execution_count": 15,
   "id": "d875e651-73da-47d9-a4e2-3360ecb6094a",
   "metadata": {},
   "outputs": [],
   "source": [
    "data_crash.write.jdbc(url=postgres_url, table=\"crash\", mode=\"append\", properties=postgres_properties)"
   ]
  }
 ],
 "metadata": {
  "kernelspec": {
   "display_name": "Python 3 (ipykernel)",
   "language": "python",
   "name": "python3"
  },
  "language_info": {
   "codemirror_mode": {
    "name": "ipython",
    "version": 3
   },
   "file_extension": ".py",
   "mimetype": "text/x-python",
   "name": "python",
   "nbconvert_exporter": "python",
   "pygments_lexer": "ipython3",
   "version": "3.12.10"
  }
 },
 "nbformat": 4,
 "nbformat_minor": 5
}
