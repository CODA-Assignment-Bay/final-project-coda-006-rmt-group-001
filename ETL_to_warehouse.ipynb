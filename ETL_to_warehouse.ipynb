{
 "cells": [
  {
   "cell_type": "markdown",
   "id": "96eebf6d-f0c9-46fb-9b2c-2404533c5f78",
   "metadata": {},
   "source": [
    "## Import Libraries and Initialize Spark Session"
   ]
  },
  {
   "cell_type": "code",
   "execution_count": 1,
   "id": "931b1046-bee8-4a3a-a58f-dc3bf65b791a",
   "metadata": {},
   "outputs": [],
   "source": [
    "from pyspark.sql import SparkSession\n",
    "\n",
    "# Initialize Spark Session\n",
    "spark = SparkSession.builder \\\n",
    "    .appName(\"WriteToPostgres\") \\\n",
    "    .config(\"spark.jars.packages\", \"org.postgresql:postgresql:42.6.0\") \\\n",
    "    .getOrCreate()"
   ]
  },
  {
   "cell_type": "markdown",
   "id": "e35508e6-133c-42e6-8b40-39d8b696643c",
   "metadata": {},
   "source": [
    "## Extract"
   ]
  },
  {
   "cell_type": "code",
   "execution_count": 2,
   "id": "ba3b1b87-338f-49c7-a474-fc9c30dbe281",
   "metadata": {
    "scrolled": true
   },
   "outputs": [
    {
     "name": "stdout",
     "output_type": "stream",
     "text": [
      "+--------------------+----------------------+-----------------+--------------------+--------------------+--------------------+------------------+--------------------+-----------+--------------------+----------------------+-------------+-----------------------+---------+--------------------+--------------+--------------+-----------------------+---------------------------+-----------------------------+----------------------+----------+-----------------+-----------+\n",
      "|          crash_date|traffic_control_device|weather_condition|  lighting_condition|    first_crash_type|     trafficway_type|         alignment|roadway_surface_cond|road_defect|          crash_type|intersection_related_i|       damage|prim_contributory_cause|num_units|  most_severe_injury|injuries_total|injuries_fatal|injuries_incapacitating|injuries_non_incapacitating|injuries_reported_not_evident|injuries_no_indication|crash_hour|crash_day_of_week|crash_month|\n",
      "+--------------------+----------------------+-----------------+--------------------+--------------------+--------------------+------------------+--------------------+-----------+--------------------+----------------------+-------------+-----------------------+---------+--------------------+--------------+--------------+-----------------------+---------------------------+-----------------------------+----------------------+----------+-----------------+-----------+\n",
      "|07/29/2023 01:00:...|        TRAFFIC SIGNAL|            CLEAR|            DAYLIGHT|             TURNING|         NOT DIVIDED|STRAIGHT AND LEVEL|             UNKNOWN|    UNKNOWN|NO INJURY / DRIVE...|                     Y|$501 - $1,500|    UNABLE TO DETERMINE|        2|NO INDICATION OF ...|           0.0|           0.0|                    0.0|                        0.0|                          0.0|                   3.0|        13|                7|          7|\n",
      "|08/13/2023 12:11:...|        TRAFFIC SIGNAL|            CLEAR|DARKNESS, LIGHTED...|             TURNING|            FOUR WAY|STRAIGHT AND LEVEL|                 DRY| NO DEFECTS|NO INJURY / DRIVE...|                     Y|  OVER $1,500|   IMPROPER TURNING/...|        2|NO INDICATION OF ...|           0.0|           0.0|                    0.0|                        0.0|                          0.0|                   2.0|         0|                1|          8|\n",
      "|12/09/2021 10:30:...|        TRAFFIC SIGNAL|            CLEAR|            DAYLIGHT|            REAR END|      T-INTERSECTION|STRAIGHT AND LEVEL|                 DRY| NO DEFECTS|NO INJURY / DRIVE...|                     Y|$501 - $1,500|   FOLLOWING TOO CLO...|        3|NO INDICATION OF ...|           0.0|           0.0|                    0.0|                        0.0|                          0.0|                   3.0|        10|                5|         12|\n",
      "|08/09/2023 07:55:...|        TRAFFIC SIGNAL|            CLEAR|            DAYLIGHT|               ANGLE|            FOUR WAY|STRAIGHT AND LEVEL|                 DRY| NO DEFECTS|INJURY AND / OR T...|                     Y|  OVER $1,500|    UNABLE TO DETERMINE|        2|NONINCAPACITATING...|           5.0|           0.0|                    0.0|                        5.0|                          0.0|                   0.0|        19|                4|          8|\n",
      "|08/19/2023 02:55:...|        TRAFFIC SIGNAL|            CLEAR|            DAYLIGHT|            REAR END|      T-INTERSECTION|STRAIGHT AND LEVEL|             UNKNOWN|    UNKNOWN|NO INJURY / DRIVE...|                     Y|$501 - $1,500|   DRIVING SKILLS/KN...|        2|NO INDICATION OF ...|           0.0|           0.0|                    0.0|                        0.0|                          0.0|                   3.0|        14|                7|          8|\n",
      "|09/06/2023 12:59:...|           NO CONTROLS|             RAIN|DARKNESS, LIGHTED...|        FIXED OBJECT|         NOT DIVIDED|STRAIGHT AND LEVEL|                 WET|    UNKNOWN|INJURY AND / OR T...|                     N|$501 - $1,500|    UNABLE TO DETERMINE|        1|NONINCAPACITATING...|           2.0|           0.0|                    0.0|                        2.0|                          0.0|                   0.0|         0|                4|          9|\n",
      "|12/20/2022 11:45:...|        TRAFFIC SIGNAL|            CLEAR|            DAYLIGHT|       REAR TO FRONT|            FOUR WAY|STRAIGHT AND LEVEL|                 DRY| NO DEFECTS|NO INJURY / DRIVE...|                     Y|$501 - $1,500|       IMPROPER BACKING|        2|NO INDICATION OF ...|           0.0|           0.0|                    0.0|                        0.0|                          0.0|                   2.0|        11|                3|         12|\n",
      "|09/20/2023 02:38:...|           NO CONTROLS|            CLEAR|            DAYLIGHT|               ANGLE|DIVIDED - W/MEDIA...|      CURVE, LEVEL|                 DRY| NO DEFECTS|INJURY AND / OR T...|                     Y|  OVER $1,500|   FAILING TO YIELD ...|        2|NONINCAPACITATING...|           1.0|           0.0|                    0.0|                        1.0|                          0.0|                   1.0|        14|                4|          9|\n",
      "|06/04/2018 06:42:...|        TRAFFIC SIGNAL|            CLEAR|            DAYLIGHT|            REAR END|         NOT DIVIDED|STRAIGHT AND LEVEL|                 DRY| NO DEFECTS|NO INJURY / DRIVE...|                     Y|  OVER $1,500|   FOLLOWING TOO CLO...|        2|NO INDICATION OF ...|           0.0|           0.0|                    0.0|                        0.0|                          0.0|                   3.0|        18|                2|          6|\n",
      "|09/07/2023 05:30:...|     STOP SIGN/FLASHER|            CLEAR|            DAYLIGHT|               ANGLE|            FOUR WAY|STRAIGHT AND LEVEL|                 DRY| NO DEFECTS|NO INJURY / DRIVE...|                     Y|  OVER $1,500|   FAILING TO YIELD ...|        2|NO INDICATION OF ...|           0.0|           0.0|                    0.0|                        0.0|                          0.0|                   4.0|        17|                5|          9|\n",
      "|09/07/2023 08:32:...|        TRAFFIC SIGNAL|            CLEAR|DARKNESS, LIGHTED...|        FIXED OBJECT|         NOT DIVIDED|STRAIGHT AND LEVEL|                 DRY|    UNKNOWN|NO INJURY / DRIVE...|                     Y|  OVER $1,500|    UNABLE TO DETERMINE|        1|NO INDICATION OF ...|           0.0|           0.0|                    0.0|                        0.0|                          0.0|                   1.0|        20|                5|          9|\n",
      "|11/02/2016 04:49:...|        TRAFFIC SIGNAL|             RAIN|                DUSK|               ANGLE|               OTHER|STRAIGHT AND LEVEL|                 WET| NO DEFECTS|NO INJURY / DRIVE...|                     Y|  OVER $1,500|   IMPROPER OVERTAKI...|        2|NO INDICATION OF ...|           0.0|           0.0|                    0.0|                        0.0|                          0.0|                   2.0|        16|                4|         11|\n",
      "|07/02/2020 05:45:...|               UNKNOWN|            CLEAR|            DAYLIGHT|             TURNING|UNKNOWN INTERSECT...|STRAIGHT AND LEVEL|                 DRY| NO DEFECTS|NO INJURY / DRIVE...|                     Y|  OVER $1,500|    UNABLE TO DETERMINE|        2|NO INDICATION OF ...|           0.0|           0.0|                    0.0|                        0.0|                          0.0|                   2.0|        17|                5|          7|\n",
      "|08/09/2023 07:00:...|           NO CONTROLS|            CLEAR|            DAYLIGHT|SIDESWIPE SAME DI...|             ONE-WAY|STRAIGHT AND LEVEL|                 DRY| NO DEFECTS|NO INJURY / DRIVE...|                     Y|  OVER $1,500|   IMPROPER OVERTAKI...|        2|NO INDICATION OF ...|           0.0|           0.0|                    0.0|                        0.0|                          0.0|                   2.0|         7|                4|          8|\n",
      "|02/09/2020 02:00:...|        TRAFFIC SIGNAL|             SNOW|            DAYLIGHT|            REAR END|                RAMP|STRAIGHT AND LEVEL|       SNOW OR SLUSH| NO DEFECTS|NO INJURY / DRIVE...|                     Y|  OVER $1,500|   FOLLOWING TOO CLO...|        2|NO INDICATION OF ...|           0.0|           0.0|                    0.0|                        0.0|                          0.0|                   2.0|        14|                1|          2|\n",
      "|08/01/2023 11:45:...|           NO CONTROLS|            CLEAR|DARKNESS, LIGHTED...|SIDESWIPE OPPOSIT...|         NOT DIVIDED|STRAIGHT AND LEVEL|                 DRY| NO DEFECTS|INJURY AND / OR T...|                     N|  OVER $1,500|   IMPROPER TURNING/...|        4|INCAPACITATING IN...|           1.0|           0.0|                    1.0|                        0.0|                          0.0|                   1.0|        23|                3|          8|\n",
      "|08/01/2023 03:29:...|        TRAFFIC SIGNAL|            CLEAR|            DAYLIGHT|        PEDALCYCLIST|       TRAFFIC ROUTE|STRAIGHT AND LEVEL|                 DRY| NO DEFECTS|INJURY AND / OR T...|                     N| $500 OR LESS|   DRIVING ON WRONG ...|        2|REPORTED, NOT EVI...|           1.0|           0.0|                    0.0|                        0.0|                          1.0|                   1.0|        15|                3|          8|\n",
      "|09/05/2023 07:05:...|        TRAFFIC SIGNAL|            CLEAR|                DUSK|               ANGLE| FIVE POINT, OR MORE|STRAIGHT AND LEVEL|                 DRY| NO DEFECTS|INJURY AND / OR T...|                     Y|  OVER $1,500|    UNABLE TO DETERMINE|        2|INCAPACITATING IN...|           3.0|           0.0|                    1.0|                        2.0|                          0.0|                   2.0|        19|                3|          9|\n",
      "|09/09/2022 04:53:...|        TRAFFIC SIGNAL|            CLEAR|            DAYLIGHT|SIDESWIPE SAME DI...|            FOUR WAY|STRAIGHT AND LEVEL|                 DRY| NO DEFECTS|NO INJURY / DRIVE...|                     Y|  OVER $1,500|    IMPROPER LANE USAGE|        2|NO INDICATION OF ...|           0.0|           0.0|                    0.0|                        0.0|                          0.0|                   2.0|        16|                6|          9|\n",
      "|08/15/2023 06:50:...|     STOP SIGN/FLASHER|            CLEAR|            DAYLIGHT|             TURNING|             ONE-WAY|STRAIGHT AND LEVEL|             UNKNOWN|    UNKNOWN|NO INJURY / DRIVE...|                     Y| $500 OR LESS|   IMPROPER OVERTAKI...|        2|NO INDICATION OF ...|           0.0|           0.0|                    0.0|                        0.0|                          0.0|                   2.0|        18|                3|          8|\n",
      "+--------------------+----------------------+-----------------+--------------------+--------------------+--------------------+------------------+--------------------+-----------+--------------------+----------------------+-------------+-----------------------+---------+--------------------+--------------+--------------+-----------------------+---------------------------+-----------------------------+----------------------+----------+-----------------+-----------+\n",
      "only showing top 20 rows\n",
      "\n"
     ]
    }
   ],
   "source": [
    "data_raw = spark.read.csv('traffic_accidents.csv', header=True , inferSchema=True)\n",
    "data_raw.show()"
   ]
  },
  {
   "cell_type": "markdown",
   "id": "a7c76dc9-29e3-4ee0-8aa2-33823b891a0d",
   "metadata": {},
   "source": [
    "## Transform"
   ]
  },
  {
   "cell_type": "code",
   "execution_count": null,
   "id": "5b7d8ea3-8633-4cf4-9e8b-d67bbca5dc70",
   "metadata": {},
   "outputs": [],
   "source": []
  }
 ],
 "metadata": {
  "kernelspec": {
   "display_name": "Python 3 (ipykernel)",
   "language": "python",
   "name": "python3"
  },
  "language_info": {
   "codemirror_mode": {
    "name": "ipython",
    "version": 3
   },
   "file_extension": ".py",
   "mimetype": "text/x-python",
   "name": "python",
   "nbconvert_exporter": "python",
   "pygments_lexer": "ipython3",
   "version": "3.12.10"
  }
 },
 "nbformat": 4,
 "nbformat_minor": 5
}
